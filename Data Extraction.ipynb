{
 "cells": [
  {
   "cell_type": "markdown",
   "id": "7389e8fe",
   "metadata": {},
   "source": [
    "# import libraries"
   ]
  },
  {
   "cell_type": "code",
   "execution_count": 30,
   "id": "2d0358a9",
   "metadata": {},
   "outputs": [],
   "source": [
    "import pandas as pd\n",
    "import json\n",
    "import os"
   ]
  },
  {
   "cell_type": "markdown",
   "id": "ef95b417",
   "metadata": {},
   "source": [
    "# Data Extraction"
   ]
  },
  {
   "cell_type": "code",
   "execution_count": 31,
   "id": "a93a5a7e",
   "metadata": {},
   "outputs": [],
   "source": [
    "path1 = \"C:/Users/rohit/Desktop/review-2/pulse/data/aggregated/transaction/country/india/state/\"\n",
    "Agg_state_list = os.listdir(path1)\n",
    "\n",
    "col1 = {'State': [], 'Year': [], 'Quater': [], 'Transaction_type': [], 'Transaction_count': [],\n",
    "        'Transaction_amount': []}\n",
    "for i in Agg_state_list:\n",
    "    p_i = path1 + i + \"/\"\n",
    "    Agg_yr = os.listdir(p_i)\n",
    "\n",
    "    for j in Agg_yr:\n",
    "        p_j = p_i + j + \"/\"\n",
    "        Agg_yr_list = os.listdir(p_j)\n",
    "\n",
    "        for k in Agg_yr_list:\n",
    "            p_k = p_j + k\n",
    "            # print(p_k)\n",
    "            Data = open(p_k, 'r')\n",
    "            A = json.load(Data)\n",
    "            for z in A['data']['transactionData']:\n",
    "                Name = z['name']\n",
    "                count = z['paymentInstruments'][0]['count']\n",
    "                amount = z['paymentInstruments'][0]['amount']\n",
    "                col1['Transaction_type'].append(Name)\n",
    "                col1['Transaction_count'].append(count)\n",
    "                col1['Transaction_amount'].append(amount)\n",
    "                col1['State'].append(i)\n",
    "                col1['Year'].append(j)\n",
    "                col1['Quater'].append(int(k.strip('.json')))\n",
    "df_aggregated_transaction = pd.DataFrame(col1)"
   ]
  },
  {
   "cell_type": "code",
   "execution_count": 19,
   "id": "5eba0415",
   "metadata": {},
   "outputs": [
    {
     "name": "stdout",
     "output_type": "stream",
     "text": [
      "                          State  Year  Quater          Transaction_type  \\\n",
      "0     andaman-&-nicobar-islands  2018       1  Recharge & bill payments   \n",
      "1     andaman-&-nicobar-islands  2018       1     Peer-to-peer payments   \n",
      "2     andaman-&-nicobar-islands  2018       1         Merchant payments   \n",
      "3     andaman-&-nicobar-islands  2018       1        Financial Services   \n",
      "4     andaman-&-nicobar-islands  2018       1                    Others   \n",
      "...                         ...   ...     ...                       ...   \n",
      "3589                west-bengal  2022       4     Peer-to-peer payments   \n",
      "3590                west-bengal  2022       4         Merchant payments   \n",
      "3591                west-bengal  2022       4  Recharge & bill payments   \n",
      "3592                west-bengal  2022       4        Financial Services   \n",
      "3593                west-bengal  2022       4                    Others   \n",
      "\n",
      "      Transaction_count  Transaction_amount  \n",
      "0                  4200        1.845307e+06  \n",
      "1                  1871        1.213866e+07  \n",
      "2                   298        4.525072e+05  \n",
      "3                    33        1.060142e+04  \n",
      "4                   256        1.846899e+05  \n",
      "...                 ...                 ...  \n",
      "3589          184380244        6.202222e+11  \n",
      "3590          171667404        1.408077e+11  \n",
      "3591           48921147        2.602663e+10  \n",
      "3592             268388        2.611229e+08  \n",
      "3593             610414        4.579379e+08  \n",
      "\n",
      "[3594 rows x 6 columns]\n"
     ]
    }
   ],
   "source": [
    "print(df_aggregated_transaction)"
   ]
  },
  {
   "cell_type": "code",
   "execution_count": 20,
   "id": "cbbfed38",
   "metadata": {},
   "outputs": [],
   "source": [
    "path2 = \"C:/Users/rohit/Desktop/review-2/pulse/data/aggregated/user/country/india/state/\"\n",
    "user_list = os.listdir(path2)\n",
    "\n",
    "col2 = {'State': [], 'Year': [], 'Quater': [], 'brands': [], 'Count': [],\n",
    "        'Percentage': []}\n",
    "for i in user_list:\n",
    "    p_i = path2 + i + \"/\"\n",
    "    Agg_yr = os.listdir(p_i)\n",
    "\n",
    "    for j in Agg_yr:\n",
    "        p_j = p_i + j + \"/\"\n",
    "        Agg_yr_list = os.listdir(p_j)\n",
    "\n",
    "        for k in Agg_yr_list:\n",
    "            p_k = p_j + k\n",
    "            # print(p_k)\n",
    "            Data = open(p_k, 'r')\n",
    "            B = json.load(Data)\n",
    "            try:\n",
    "                for w in B[\"data\"][\"usersByDevice\"]:\n",
    "                    brand_name = w[\"brand\"]\n",
    "                    count_ = w[\"count\"]\n",
    "                    ALL_percentage = w[\"percentage\"]\n",
    "                    col2[\"brands\"].append(brand_name)\n",
    "                    col2[\"Count\"].append(count_)\n",
    "                    col2[\"Percentage\"].append(ALL_percentage)\n",
    "                    col2[\"State\"].append(i)\n",
    "                    col2[\"Year\"].append(j)\n",
    "                    col2[\"Quater\"].append(int(k.strip('.json')))\n",
    "            except:\n",
    "                pass\n",
    "df_aggregated_user = pd.DataFrame(col2)"
   ]
  },
  {
   "cell_type": "code",
   "execution_count": 21,
   "id": "6e91e81c",
   "metadata": {},
   "outputs": [
    {
     "name": "stdout",
     "output_type": "stream",
     "text": [
      "                          State  Year  Quater   brands    Count  Percentage\n",
      "0     andaman-&-nicobar-islands  2018       1   Xiaomi     1665    0.247033\n",
      "1     andaman-&-nicobar-islands  2018       1  Samsung     1445    0.214392\n",
      "2     andaman-&-nicobar-islands  2018       1     Vivo      982    0.145697\n",
      "3     andaman-&-nicobar-islands  2018       1     Oppo      501    0.074332\n",
      "4     andaman-&-nicobar-islands  2018       1  OnePlus      332    0.049258\n",
      "...                         ...   ...     ...      ...      ...         ...\n",
      "6727                west-bengal  2022       1   Lenovo   330017    0.015056\n",
      "6728                west-bengal  2022       1  Infinix   284678    0.012987\n",
      "6729                west-bengal  2022       1     Asus   280347    0.012790\n",
      "6730                west-bengal  2022       1    Apple   277752    0.012671\n",
      "6731                west-bengal  2022       1   Others  2196334    0.100199\n",
      "\n",
      "[6732 rows x 6 columns]\n"
     ]
    }
   ],
   "source": [
    "print(df_aggregated_user)"
   ]
  },
  {
   "cell_type": "code",
   "execution_count": 22,
   "id": "ba6a6faf",
   "metadata": {},
   "outputs": [],
   "source": [
    "path3 = \"C:/Users/rohit/Desktop/review-2/pulse/data/map/transaction/hover/country/india/state/\"\n",
    "hover_list = os.listdir(path3)\n",
    "\n",
    "col3 = {'State': [], 'Year': [], 'Quater': [], 'District': [], 'count': [],\n",
    "        'amount': []}\n",
    "for i in hover_list:\n",
    "    p_i = path3 + i + \"/\"\n",
    "    Agg_yr = os.listdir(p_i)\n",
    "\n",
    "    for j in Agg_yr:\n",
    "        p_j = p_i + j + \"/\"\n",
    "        Agg_yr_list = os.listdir(p_j)\n",
    "\n",
    "        for k in Agg_yr_list:\n",
    "            p_k = p_j + k\n",
    "            # print(p_k)\n",
    "            Data = open(p_k, 'r')\n",
    "            C = json.load(Data)\n",
    "            for x in C[\"data\"][\"hoverDataList\"]:\n",
    "                District = x[\"name\"]\n",
    "                count = x[\"metric\"][0][\"count\"]\n",
    "                amount = x[\"metric\"][0][\"amount\"]\n",
    "                col3[\"District\"].append(District)\n",
    "                col3[\"count\"].append(count)\n",
    "                col3[\"amount\"].append(amount)\n",
    "                col3['State'].append(i)\n",
    "                col3['Year'].append(j)\n",
    "                col3['Quater'].append(int(k.strip('.json')))\n",
    "df_map_transaction = pd.DataFrame(col3)"
   ]
  },
  {
   "cell_type": "code",
   "execution_count": 23,
   "id": "891bbcee",
   "metadata": {},
   "outputs": [
    {
     "name": "stdout",
     "output_type": "stream",
     "text": [
      "                           State  Year  Quater  \\\n",
      "0      andaman-&-nicobar-islands  2018       1   \n",
      "1      andaman-&-nicobar-islands  2018       1   \n",
      "2      andaman-&-nicobar-islands  2018       1   \n",
      "3      andaman-&-nicobar-islands  2018       2   \n",
      "4      andaman-&-nicobar-islands  2018       2   \n",
      "...                          ...   ...     ...   \n",
      "14631                west-bengal  2022       4   \n",
      "14632                west-bengal  2022       4   \n",
      "14633                west-bengal  2022       4   \n",
      "14634                west-bengal  2022       4   \n",
      "14635                west-bengal  2022       4   \n",
      "\n",
      "                                District     count        amount  \n",
      "0      north and middle andaman district       442  9.316631e+05  \n",
      "1                 south andaman district      5688  1.256025e+07  \n",
      "2                      nicobars district       528  1.139849e+06  \n",
      "3      north and middle andaman district       825  1.317863e+06  \n",
      "4                 south andaman district      9395  2.394824e+07  \n",
      "...                                  ...       ...           ...  \n",
      "14631                     nadia district  12690126  2.804568e+10  \n",
      "14632                   birbhum district   7617444  1.614650e+10  \n",
      "14633           purba medinipur district  14484229  3.309949e+10  \n",
      "14634                    maldah district  12492746  2.721861e+10  \n",
      "14635                 darjiling district   8827502  1.801650e+10  \n",
      "\n",
      "[14636 rows x 6 columns]\n"
     ]
    }
   ],
   "source": [
    "print(df_map_transaction)"
   ]
  },
  {
   "cell_type": "code",
   "execution_count": 24,
   "id": "d2511563",
   "metadata": {},
   "outputs": [],
   "source": [
    "path4 = \"C:/Users/rohit/Desktop/review-2/pulse/data/map/user/hover/country/india/state/\"\n",
    "map_list = os.listdir(path4)\n",
    "\n",
    "col4 = {\"State\": [], \"Year\": [], \"Quater\": [], \"District\": [],\n",
    "        \"RegisteredUser\": []}\n",
    "for i in map_list:\n",
    "    p_i = path4 + i + \"/\"\n",
    "    Agg_yr = os.listdir(p_i)\n",
    "\n",
    "    for j in Agg_yr:\n",
    "        p_j = p_i + j + \"/\"\n",
    "        Agg_yr_list = os.listdir(p_j)\n",
    "\n",
    "        for k in Agg_yr_list:\n",
    "            p_k = p_j + k\n",
    "            # print(p_k)\n",
    "            Data = open(p_k, 'r')\n",
    "            D = json.load(Data)\n",
    "\n",
    "            for u in D[\"data\"][\"hoverData\"].items():\n",
    "                district = u[0]\n",
    "                registereduser = u[1][\"registeredUsers\"]\n",
    "                col4[\"District\"].append(district)\n",
    "                col4[\"RegisteredUser\"].append(registereduser)\n",
    "                col4['State'].append(i)\n",
    "                col4['Year'].append(j)\n",
    "                col4['Quater'].append(int(k.strip('.json')))\n",
    "df_map_user = pd.DataFrame(col4)"
   ]
  },
  {
   "cell_type": "code",
   "execution_count": 25,
   "id": "b5fb990c",
   "metadata": {},
   "outputs": [
    {
     "name": "stdout",
     "output_type": "stream",
     "text": [
      "                           State  Year  Quater  \\\n",
      "0      andaman-&-nicobar-islands  2018       1   \n",
      "1      andaman-&-nicobar-islands  2018       1   \n",
      "2      andaman-&-nicobar-islands  2018       1   \n",
      "3      andaman-&-nicobar-islands  2018       2   \n",
      "4      andaman-&-nicobar-islands  2018       2   \n",
      "...                          ...   ...     ...   \n",
      "14635                west-bengal  2022       4   \n",
      "14636                west-bengal  2022       4   \n",
      "14637                west-bengal  2022       4   \n",
      "14638                west-bengal  2022       4   \n",
      "14639                west-bengal  2022       4   \n",
      "\n",
      "                                District  RegisteredUser  \n",
      "0      north and middle andaman district             632  \n",
      "1                 south andaman district            5846  \n",
      "2                      nicobars district             262  \n",
      "3      north and middle andaman district             911  \n",
      "4                 south andaman district            8143  \n",
      "...                                  ...             ...  \n",
      "14635                     nadia district         1359420  \n",
      "14636                   birbhum district          855236  \n",
      "14637           purba medinipur district         1346908  \n",
      "14638                    maldah district          954892  \n",
      "14639                 darjiling district          564562  \n",
      "\n",
      "[14640 rows x 5 columns]\n"
     ]
    }
   ],
   "source": [
    "print(df_map_user)"
   ]
  },
  {
   "cell_type": "code",
   "execution_count": 26,
   "id": "4b37ded9",
   "metadata": {},
   "outputs": [],
   "source": [
    "path5 = \"C:/Users/rohit/Desktop/review-2/pulse/data/top/transaction/country/india/state/\"\n",
    "TOP_list = os.listdir(path5)\n",
    "\n",
    "col5 = {'State': [], 'Year': [], 'Quater': [], 'District': [], 'Transaction_count': [],\n",
    "        'Transaction_amount': []}\n",
    "for i in TOP_list:\n",
    "    p_i = path5 + i + \"/\"\n",
    "    Agg_yr = os.listdir(p_i)\n",
    "\n",
    "    for j in Agg_yr:\n",
    "        p_j = p_i + j + \"/\"\n",
    "        Agg_yr_list = os.listdir(p_j)\n",
    "\n",
    "        for k in Agg_yr_list:\n",
    "            p_k = p_j + k\n",
    "            # print(p_k)\n",
    "            Data = open(p_k, 'r')\n",
    "            E = json.load(Data)\n",
    "            for z in E['data']['pincodes']:\n",
    "                Name = z['entityName']\n",
    "                count = z['metric']['count']\n",
    "                amount = z['metric']['amount']\n",
    "                col5['District'].append(Name)\n",
    "                col5['Transaction_count'].append(count)\n",
    "                col5['Transaction_amount'].append(amount)\n",
    "                col5['State'].append(i)\n",
    "                col5['Year'].append(j)\n",
    "                col5['Quater'].append(int(k.strip('.json')))\n",
    "df_top_transaction = pd.DataFrame(col5)"
   ]
  },
  {
   "cell_type": "code",
   "execution_count": 27,
   "id": "85e58460",
   "metadata": {},
   "outputs": [
    {
     "name": "stdout",
     "output_type": "stream",
     "text": [
      "                          State  Year  Quater District  Transaction_count  \\\n",
      "0     andaman-&-nicobar-islands  2018       1   744101               1622   \n",
      "1     andaman-&-nicobar-islands  2018       1   744103               1223   \n",
      "2     andaman-&-nicobar-islands  2018       1   744102                969   \n",
      "3     andaman-&-nicobar-islands  2018       1   744105                685   \n",
      "4     andaman-&-nicobar-islands  2018       1   744104                340   \n",
      "...                         ...   ...     ...      ...                ...   \n",
      "7134                west-bengal  2022       4   722101            2900058   \n",
      "7135                west-bengal  2022       4   700135            2471048   \n",
      "7136                west-bengal  2022       4   732101            2407008   \n",
      "7137                west-bengal  2022       4   700091            2348447   \n",
      "7138                west-bengal  2022       4   711101            1765314   \n",
      "\n",
      "      Transaction_amount  \n",
      "0           2.769298e+06  \n",
      "1           2.238042e+06  \n",
      "2           3.519060e+06  \n",
      "3           1.298561e+06  \n",
      "4           1.039715e+06  \n",
      "...                  ...  \n",
      "7134        5.748321e+09  \n",
      "7135        3.527457e+09  \n",
      "7136        5.052109e+09  \n",
      "7137        2.176640e+09  \n",
      "7138        4.048329e+09  \n",
      "\n",
      "[7139 rows x 6 columns]\n"
     ]
    }
   ],
   "source": [
    "print(df_top_transaction)"
   ]
  },
  {
   "cell_type": "code",
   "execution_count": 28,
   "id": "ed52d9e3",
   "metadata": {},
   "outputs": [],
   "source": [
    "path6 = \"C:/Users/rohit\\Desktop/review-2/pulse/data/top/user/country/india/state/\"\n",
    "USER_list = os.listdir(path6)\n",
    "\n",
    "col6 = {'State': [], 'Year': [], 'Quater': [], 'District': [],\n",
    "        'RegisteredUser': []}\n",
    "for i in USER_list:\n",
    "    p_i = path6 + i + \"/\"\n",
    "    Agg_yr = os.listdir(p_i)\n",
    "\n",
    "    for j in Agg_yr:\n",
    "        p_j = p_i + j + \"/\"\n",
    "        Agg_yr_list = os.listdir(p_j)\n",
    "\n",
    "        for k in Agg_yr_list:\n",
    "            p_k = p_j + k\n",
    "            # print(p_k)\n",
    "            Data = open(p_k, 'r')\n",
    "            F = json.load(Data)\n",
    "            for t in F['data']['pincodes']:\n",
    "                Name = t['name']\n",
    "                registeredUser = t['registeredUsers']\n",
    "                col6['District'].append(Name)\n",
    "                col6['RegisteredUser'].append(registeredUser)\n",
    "                col6['State'].append(i)\n",
    "                col6['Year'].append(j)\n",
    "                col6['Quater'].append(int(k.strip('.json')))\n",
    "df_top_user = pd.DataFrame(col6)"
   ]
  },
  {
   "cell_type": "code",
   "execution_count": null,
   "id": "2657784a",
   "metadata": {},
   "outputs": [],
   "source": [
    "print(df_top_user)"
   ]
  }
 ],
 "metadata": {
  "kernelspec": {
   "display_name": "Python 3 (ipykernel)",
   "language": "python",
   "name": "python3"
  },
  "language_info": {
   "codemirror_mode": {
    "name": "ipython",
    "version": 3
   },
   "file_extension": ".py",
   "mimetype": "text/x-python",
   "name": "python",
   "nbconvert_exporter": "python",
   "pygments_lexer": "ipython3",
   "version": "3.9.13"
  }
 },
 "nbformat": 4,
 "nbformat_minor": 5
}
